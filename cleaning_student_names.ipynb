{
 "cells": [
  {
   "cell_type": "code",
   "execution_count": 1,
   "metadata": {
    "execution": {
     "iopub.execute_input": "2020-10-20T20:34:25.639615Z",
     "iopub.status.busy": "2020-10-20T20:34:25.639615Z",
     "iopub.status.idle": "2020-10-20T20:34:25.644601Z",
     "shell.execute_reply": "2020-10-20T20:34:25.643602Z",
     "shell.execute_reply.started": "2020-10-20T20:34:25.639615Z"
    }
   },
   "outputs": [],
   "source": [
    "#import dependencies \n",
    "import pandas as pd"
   ]
  },
  {
   "cell_type": "code",
   "execution_count": 2,
   "metadata": {
    "execution": {
     "iopub.execute_input": "2020-10-20T20:35:32.827803Z",
     "iopub.status.busy": "2020-10-20T20:35:32.827803Z",
     "iopub.status.idle": "2020-10-20T20:35:32.916506Z",
     "shell.execute_reply": "2020-10-20T20:35:32.916506Z",
     "shell.execute_reply.started": "2020-10-20T20:35:32.827803Z"
    }
   },
   "outputs": [],
   "source": [
    "#load data\n",
    "student_frame = pd.read_csv('Resources/students_complete.csv')"
   ]
  },
  {
   "cell_type": "code",
   "execution_count": 3,
   "metadata": {
    "execution": {
     "iopub.execute_input": "2020-10-20T20:35:38.452317Z",
     "iopub.status.busy": "2020-10-20T20:35:38.452317Z",
     "iopub.status.idle": "2020-10-20T20:35:38.493308Z",
     "shell.execute_reply": "2020-10-20T20:35:38.492310Z",
     "shell.execute_reply.started": "2020-10-20T20:35:38.452317Z"
    }
   },
   "outputs": [
    {
     "data": {
      "text/html": [
       "<div>\n",
       "<style scoped>\n",
       "    .dataframe tbody tr th:only-of-type {\n",
       "        vertical-align: middle;\n",
       "    }\n",
       "\n",
       "    .dataframe tbody tr th {\n",
       "        vertical-align: top;\n",
       "    }\n",
       "\n",
       "    .dataframe thead th {\n",
       "        text-align: right;\n",
       "    }\n",
       "</style>\n",
       "<table border=\"1\" class=\"dataframe\">\n",
       "  <thead>\n",
       "    <tr style=\"text-align: right;\">\n",
       "      <th></th>\n",
       "      <th>Student ID</th>\n",
       "      <th>student_name</th>\n",
       "      <th>gender</th>\n",
       "      <th>grade</th>\n",
       "      <th>school_name</th>\n",
       "      <th>reading_score</th>\n",
       "      <th>math_score</th>\n",
       "    </tr>\n",
       "  </thead>\n",
       "  <tbody>\n",
       "    <tr>\n",
       "      <th>0</th>\n",
       "      <td>0</td>\n",
       "      <td>Paul Bradley</td>\n",
       "      <td>M</td>\n",
       "      <td>9th</td>\n",
       "      <td>Huang High School</td>\n",
       "      <td>66</td>\n",
       "      <td>79</td>\n",
       "    </tr>\n",
       "    <tr>\n",
       "      <th>1</th>\n",
       "      <td>1</td>\n",
       "      <td>Victor Smith</td>\n",
       "      <td>M</td>\n",
       "      <td>12th</td>\n",
       "      <td>Huang High School</td>\n",
       "      <td>94</td>\n",
       "      <td>61</td>\n",
       "    </tr>\n",
       "  </tbody>\n",
       "</table>\n",
       "</div>"
      ],
      "text/plain": [
       "   Student ID  student_name gender grade        school_name  reading_score  \\\n",
       "0           0  Paul Bradley      M   9th  Huang High School             66   \n",
       "1           1  Victor Smith      M  12th  Huang High School             94   \n",
       "\n",
       "   math_score  \n",
       "0          79  \n",
       "1          61  "
      ]
     },
     "execution_count": 3,
     "metadata": {},
     "output_type": "execute_result"
    }
   ],
   "source": [
    "# review data/ ensure proper file reading\n",
    "student_frame.head(2)"
   ]
  },
  {
   "cell_type": "code",
   "execution_count": 11,
   "metadata": {
    "execution": {
     "iopub.execute_input": "2020-10-20T20:43:41.621061Z",
     "iopub.status.busy": "2020-10-20T20:43:41.621061Z",
     "iopub.status.idle": "2020-10-20T20:43:41.627015Z",
     "shell.execute_reply": "2020-10-20T20:43:41.627015Z",
     "shell.execute_reply.started": "2020-10-20T20:43:41.621061Z"
    }
   },
   "outputs": [
    {
     "data": {
      "text/plain": [
       "['Paul Bradley',\n",
       " 'Victor Smith',\n",
       " 'Kevin Rodriguez',\n",
       " 'Dr. Richard Scott',\n",
       " 'Bonnie Ray']"
      ]
     },
     "execution_count": 11,
     "metadata": {},
     "output_type": "execute_result"
    }
   ],
   "source": [
    "# create list of student names \n",
    "student_names = student_frame.student_name.tolist()\n",
    "student_names[0:5]"
   ]
  },
  {
   "cell_type": "code",
   "execution_count": 17,
   "metadata": {
    "execution": {
     "iopub.execute_input": "2020-10-20T21:25:10.820822Z",
     "iopub.status.busy": "2020-10-20T21:25:10.820822Z",
     "iopub.status.idle": "2020-10-20T21:25:10.840811Z",
     "shell.execute_reply": "2020-10-20T21:25:10.839814Z",
     "shell.execute_reply.started": "2020-10-20T21:25:10.820822Z"
    }
   },
   "outputs": [
    {
     "data": {
      "text/plain": [
       "1531"
      ]
     },
     "execution_count": 17,
     "metadata": {},
     "output_type": "execute_result"
    }
   ],
   "source": [
    "# Create a new list and use it for the for loop to iterate through the list.\n",
    "students_to_fix = []\n",
    "\n",
    "# Use an if statement to check the length of the name.\n",
    "# If the name is greater than or equal to \"3\", add the name to the list.\n",
    "\n",
    "for name in student_names:\n",
    "    if len(name.split()) >= 3:\n",
    "        students_to_fix.append(name)\n",
    "\n",
    "# Get the length of the students whose names are greater than or equal to \"3\".\n",
    "len(students_to_fix)"
   ]
  },
  {
   "cell_type": "code",
   "execution_count": 22,
   "metadata": {
    "execution": {
     "iopub.execute_input": "2020-10-20T21:26:25.272879Z",
     "iopub.status.busy": "2020-10-20T21:26:25.272879Z",
     "iopub.status.idle": "2020-10-20T21:26:25.278863Z",
     "shell.execute_reply": "2020-10-20T21:26:25.278863Z",
     "shell.execute_reply.started": "2020-10-20T21:26:25.272879Z"
    }
   },
   "outputs": [
    {
     "name": "stdout",
     "output_type": "stream",
     "text": [
      "['Dr.', 'Dr.', 'Mr.', 'Dr.', 'Miss', 'Luke', 'Dr.', 'Mrs.', 'Mrs.', 'Mr.', 'Dr.', 'Mr.', 'Mr.', 'Mary', 'Mrs.', 'Mrs.', 'Mr.', 'Tara', 'Dr.', 'Mr.']\n"
     ]
    }
   ],
   "source": [
    "# Add the prefixes less than or equal to 4 to a new list.\n",
    "prefixes = []\n",
    "for name in students_to_fix:\n",
    "    if len(name.split()[0]) <= 4:\n",
    "        prefixes.append(name.split()[0])\n",
    "print(prefixes[0:20])"
   ]
  },
  {
   "cell_type": "code",
   "execution_count": 23,
   "metadata": {
    "execution": {
     "iopub.execute_input": "2020-10-20T21:26:40.661016Z",
     "iopub.status.busy": "2020-10-20T21:26:40.660020Z",
     "iopub.status.idle": "2020-10-20T21:26:40.666008Z",
     "shell.execute_reply": "2020-10-20T21:26:40.666008Z",
     "shell.execute_reply.started": "2020-10-20T21:26:40.661016Z"
    }
   },
   "outputs": [
    {
     "name": "stdout",
     "output_type": "stream",
     "text": [
      "['MD', 'MD', 'MD', 'III', 'DVM', 'MD', 'MD', 'MD', 'DDS', 'DVM', 'II', 'MD', 'MD', 'DDS', 'MD', 'DDS', 'MD', 'MD', 'PhD', 'MD']\n"
     ]
    }
   ],
   "source": [
    "# Add the suffixes less than or equal to 3 to a new list.\n",
    "suffixes = []\n",
    "for name in students_to_fix:\n",
    "    if len(name.split()[-1]) <= 3:\n",
    "        suffixes.append(name.split()[-1])\n",
    "\n",
    "print(suffixes[0:20])"
   ]
  },
  {
   "cell_type": "code",
   "execution_count": 26,
   "metadata": {
    "execution": {
     "iopub.execute_input": "2020-10-20T21:30:36.238398Z",
     "iopub.status.busy": "2020-10-20T21:30:36.238398Z",
     "iopub.status.idle": "2020-10-20T21:30:36.243383Z",
     "shell.execute_reply": "2020-10-20T21:30:36.242406Z",
     "shell.execute_reply.started": "2020-10-20T21:30:36.238398Z"
    }
   },
   "outputs": [],
   "source": [
    "unique_suffix = set(suffixes)\n",
    "unique_prefix = set(prefixes)"
   ]
  },
  {
   "cell_type": "code",
   "execution_count": 38,
   "metadata": {
    "execution": {
     "iopub.execute_input": "2020-10-20T21:32:58.395421Z",
     "iopub.status.busy": "2020-10-20T21:32:58.394423Z",
     "iopub.status.idle": "2020-10-20T21:32:58.399409Z",
     "shell.execute_reply": "2020-10-20T21:32:58.399409Z",
     "shell.execute_reply.started": "2020-10-20T21:32:58.395421Z"
    }
   },
   "outputs": [
    {
     "name": "stdout",
     "output_type": "stream",
     "text": [
      "{'Cory', 'Mr.', 'Anna', 'Mary', 'Noah', 'Amy', 'Sara', 'Joe', 'Kara', 'Toni', 'Luke', 'Dawn', 'Greg', 'Jon', 'Lisa', 'Kim', 'Miss', 'Sean', 'Omar', 'Tina', 'Lynn', 'Lori', 'Dr.', 'Kyle', 'Dana', 'Ryan', 'Ruth', 'Marc', 'John', 'Carl', 'Erik', 'Paul', 'Erin', 'Mike', 'Seth', 'Gail', 'Anne', 'Dale', 'Jodi', 'Jose', 'Mark', 'Gary', 'Ms.', 'Mrs.', 'Tara', 'Jill', 'Chad', 'Troy', 'Gina', 'Kari', 'Eric', 'Emma', 'Ian', 'Tony', 'Leah', 'Adam', 'Judy', 'Cody', 'Todd'} \n",
      " ---------\n",
      "{'MD', 'IV', 'Kim', 'DVM', 'Day', 'PhD', 'Jr.', 'Cox', 'II', 'Li', 'Roy', 'Lee', 'V', 'III', 'DDS'}\n"
     ]
    }
   ],
   "source": [
    "print(unique_prefix,\"\\n ---------\")\n",
    "print(unique_suffix)"
   ]
  },
  {
   "cell_type": "code",
   "execution_count": 56,
   "metadata": {
    "execution": {
     "iopub.execute_input": "2020-10-21T00:59:18.114610Z",
     "iopub.status.busy": "2020-10-21T00:59:18.114610Z",
     "iopub.status.idle": "2020-10-21T00:59:18.118600Z",
     "shell.execute_reply": "2020-10-21T00:59:18.117694Z",
     "shell.execute_reply.started": "2020-10-21T00:59:18.114610Z"
    }
   },
   "outputs": [],
   "source": [
    "# Add each prefix and suffix to remove to a list.\n",
    "prefixes_suffixes = [\"Dr. \", \"Mr. \",\"Ms. \", \"Mrs. \", \"Miss \", \" MD\", \" DDS\", \" DVM\", \" PhD\"]"
   ]
  },
  {
   "cell_type": "code",
   "execution_count": 71,
   "metadata": {
    "execution": {
     "iopub.execute_input": "2020-10-21T01:19:38.582858Z",
     "iopub.status.busy": "2020-10-21T01:19:38.581845Z",
     "iopub.status.idle": "2020-10-21T01:19:38.823036Z",
     "shell.execute_reply": "2020-10-21T01:19:38.823036Z",
     "shell.execute_reply.started": "2020-10-21T01:19:38.582858Z"
    }
   },
   "outputs": [],
   "source": [
    "for word in prefixes_suffixes:\n",
    "    student_frame[\"student_name\"] = student_frame[\"student_name\"].str.replace(word,\"\")"
   ]
  },
  {
   "cell_type": "code",
   "execution_count": 74,
   "metadata": {
    "execution": {
     "iopub.execute_input": "2020-10-21T01:36:44.786294Z",
     "iopub.status.busy": "2020-10-21T01:36:44.786294Z",
     "iopub.status.idle": "2020-10-21T01:36:44.790249Z",
     "shell.execute_reply": "2020-10-21T01:36:44.789443Z",
     "shell.execute_reply.started": "2020-10-21T01:36:44.786294Z"
    }
   },
   "outputs": [],
   "source": [
    "student_names = student_frame[\"student_name\"].tolist()"
   ]
  },
  {
   "cell_type": "code",
   "execution_count": 76,
   "metadata": {
    "execution": {
     "iopub.execute_input": "2020-10-21T01:37:13.630736Z",
     "iopub.status.busy": "2020-10-21T01:37:13.630736Z",
     "iopub.status.idle": "2020-10-21T01:37:13.657663Z",
     "shell.execute_reply": "2020-10-21T01:37:13.656691Z",
     "shell.execute_reply.started": "2020-10-21T01:37:13.630736Z"
    }
   },
   "outputs": [
    {
     "data": {
      "text/plain": [
       "151"
      ]
     },
     "execution_count": 76,
     "metadata": {},
     "output_type": "execute_result"
    }
   ],
   "source": [
    "# Create a new list and use it for the for loop to iterate through the list.\n",
    "students_fixed = []\n",
    "\n",
    "# Use an if statement to check the length of the name.\n",
    "\n",
    "# If the name is greater than or equal to 3, add the name to the list.\n",
    "\n",
    "for name in student_names:\n",
    "    if len(name.split()) >= 3:\n",
    "        students_fixed.append(name)\n",
    "\n",
    "# Get the length of the students' names that are greater than or equal to 3.\n",
    "len(students_fixed)"
   ]
  },
  {
   "cell_type": "code",
   "execution_count": null,
   "metadata": {},
   "outputs": [],
   "source": []
  }
 ],
 "metadata": {
  "kernelspec": {
   "display_name": "PythonData",
   "language": "python",
   "name": "pythondata"
  },
  "language_info": {
   "codemirror_mode": {
    "name": "ipython",
    "version": 3
   },
   "file_extension": ".py",
   "mimetype": "text/x-python",
   "name": "python",
   "nbconvert_exporter": "python",
   "pygments_lexer": "ipython3",
   "version": "3.7.9"
  }
 },
 "nbformat": 4,
 "nbformat_minor": 4
}
